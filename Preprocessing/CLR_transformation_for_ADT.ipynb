{
 "cells": [
  {
   "cell_type": "code",
   "execution_count": 1,
   "id": "e3bb8b1b",
   "metadata": {},
   "outputs": [
    {
     "name": "stderr",
     "output_type": "stream",
     "text": [
      "C:\\Users\\joshu\\miniconda3\\envs\\cxg\\lib\\site-packages\\tqdm\\auto.py:22: TqdmWarning: IProgress not found. Please update jupyter and ipywidgets. See https://ipywidgets.readthedocs.io/en/stable/user_install.html\n",
      "  from .autonotebook import tqdm as notebook_tqdm\n"
     ]
    }
   ],
   "source": [
    "import scanpy as sc\n",
    "import anndata as ad\n",
    "from muon import prot as pt # muon is a multimodal anndata package\n",
    "import numpy as np\n",
    "\n"
   ]
  },
  {
   "cell_type": "code",
   "execution_count": 2,
   "id": "7fa2b8c6",
   "metadata": {},
   "outputs": [],
   "source": [
    "# file path\n",
    "filepath = 'C:/mnt/ibm_lg/yangjoon.kim/UC_UCSF_Multiome/XAUT2/OLD ADT/'\n",
    "RNA_dataname = '220613_blood_RNA'\n",
    "ADT_dataname = '220613_blood_ADT'\n",
    "dataformat = '.h5ad'\n",
    "\n",
    "adata_RNA = sc.read(filepath+RNA_dataname+dataformat)\n",
    "adata_ADT = sc.read(filepath+ADT_dataname+dataformat)\n",
    "\n"
   ]
  },
  {
   "cell_type": "code",
   "execution_count": 3,
   "id": "be8f93f7",
   "metadata": {},
   "outputs": [
    {
     "name": "stderr",
     "output_type": "stream",
     "text": [
      "C:\\Users\\joshu\\miniconda3\\envs\\cxg\\lib\\site-packages\\muon\\_prot\\preproc.py:214: UserWarning: adata.X is sparse but not in CSC format. Converting to CSC.\n",
      "  warn(\"adata.X is sparse but not in CSC format. Converting to CSC.\")\n"
     ]
    }
   ],
   "source": [
    "# recover the raw counts\n",
    "adata_ADT.X = adata_ADT.layers[\"counts\"].copy()\n",
    "\n",
    "# CLR transformation (as in Stoeckius 2017 paper)\n",
    "# ref: https://muon.readthedocs.io/en/latest/omics/citeseq.html\n",
    "pt.pp.clr(adata_ADT)\n",
    "\n",
    "# concatenate the RNA and ADT object (optional, ONLY for visualization, NOT for dot plots, etc.)\n",
    "# Put the assay name for adata.var just in case we need to differentiate where the marker comes from (usually it shoudl be obvious!)\n",
    "adata_RNA.var['assay'] = 'RNA'\n",
    "adata_ADT.var['assay'] = 'ADT'\n",
    "\n",
    "adata = ad.concat([adata_RNA, adata_ADT], axis=1, merge=\"first\")\n",
    "\n"
   ]
  },
  {
   "cell_type": "code",
   "execution_count": 4,
   "id": "6ab573b9",
   "metadata": {},
   "outputs": [],
   "source": [
    "# save the object\n",
    "adata_ADT.write_h5ad(\"C:/mnt/ibm_lg/yangjoon.kim/UC_UCSF_Multiome/XAUT2/220613_blood_ADTCLR.h5ad\")\n",
    "adata.write_h5ad(\"C:/mnt/ibm_lg/yangjoon.kim/UC_UCSF_Multiome/XAUT2/220613_blood_RNA_ADTCLR.h5ad\")"
   ]
  },
  {
   "cell_type": "code",
   "execution_count": 5,
   "id": "0ced4d50",
   "metadata": {},
   "outputs": [
    {
     "name": "stderr",
     "output_type": "stream",
     "text": [
      "C:\\Users\\joshu\\miniconda3\\envs\\cxg\\lib\\site-packages\\muon\\_prot\\preproc.py:214: UserWarning: adata.X is sparse but not in CSC format. Converting to CSC.\n",
      "  warn(\"adata.X is sparse but not in CSC format. Converting to CSC.\")\n"
     ]
    }
   ],
   "source": [
    "#for biopsy\n",
    "# file path\n",
    "filepath = 'C:/mnt/ibm_lg/yangjoon.kim/UC_UCSF_Multiome/XAUT2/OLD ADT/'\n",
    "RNA_dataname = '220613_biopsy_RNA'\n",
    "ADT_dataname = '220613_biopsy_ADT'\n",
    "dataformat = '.h5ad'\n",
    "\n",
    "adata_RNA = sc.read(filepath+RNA_dataname+dataformat)\n",
    "adata_ADT = sc.read(filepath+ADT_dataname+dataformat)\n",
    "\n",
    "# recover the raw counts\n",
    "adata_ADT.X = adata_ADT.layers[\"counts\"].copy()\n",
    "\n",
    "# CLR transformation (as in Stoeckius 2017 paper)\n",
    "# ref: https://muon.readthedocs.io/en/latest/omics/citeseq.html\n",
    "pt.pp.clr(adata_ADT)\n",
    "\n",
    "# concatenate the RNA and ADT object (optional, ONLY for visualization, NOT for dot plots, etc.)\n",
    "# Put the assay name for adata.var just in case we need to differentiate where the marker comes from (usually it shoudl be obvious!)\n",
    "adata_RNA.var['assay'] = 'RNA'\n",
    "adata_ADT.var['assay'] = 'ADT'\n",
    "\n",
    "adata = ad.concat([adata_RNA, adata_ADT], axis=1, merge=\"first\")\n",
    "\n",
    "\n",
    "# save the object\n",
    "adata_ADT.write_h5ad(\"C:/mnt/ibm_lg/yangjoon.kim/UC_UCSF_Multiome/XAUT2/220613_biopsy_ADTCLR.h5ad\")\n",
    "adata.write_h5ad(\"C:/mnt/ibm_lg/yangjoon.kim/UC_UCSF_Multiome/XAUT2/220613_biopsy_RNA_ADTCLR.h5ad\")"
   ]
  }
 ],
 "metadata": {
  "kernelspec": {
   "display_name": "Python 3 (ipykernel)",
   "language": "python",
   "name": "python3"
  },
  "language_info": {
   "codemirror_mode": {
    "name": "ipython",
    "version": 3
   },
   "file_extension": ".py",
   "mimetype": "text/x-python",
   "name": "python",
   "nbconvert_exporter": "python",
   "pygments_lexer": "ipython3",
   "version": "3.8.12"
  }
 },
 "nbformat": 4,
 "nbformat_minor": 5
}

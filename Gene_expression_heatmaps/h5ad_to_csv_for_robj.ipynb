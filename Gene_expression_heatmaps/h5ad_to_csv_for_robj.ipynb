{
 "cells": [
  {
   "cell_type": "markdown",
   "id": "e8de41ae",
   "metadata": {},
   "source": [
    "## This converts from h5ad to csv files that you can then use to generate Robj"
   ]
  },
  {
   "cell_type": "code",
   "execution_count": 1,
   "id": "f19b1b54",
   "metadata": {},
   "outputs": [],
   "source": [
    "import scanpy as sc\n",
    "from scipy import io\n",
    "import numpy as np\n",
    "import gzip"
   ]
  },
  {
   "cell_type": "code",
   "execution_count": 2,
   "id": "aceb537f",
   "metadata": {},
   "outputs": [
    {
     "name": "stderr",
     "output_type": "stream",
     "text": [
      "A subdirectory or file converting_from_h5ad\\biopsy_RNA already exists.\n"
     ]
    }
   ],
   "source": [
    "import sys \n",
    "sys.path.append('/Desktop/colitis/')\n",
    "\n",
    "\n",
    "#Make directories for reading/writing your files\n",
    "#!mkdir converting_from_h5ad\n",
    "!mkdir converting_from_h5ad\\biopsy_RNA"
   ]
  },
  {
   "cell_type": "code",
   "execution_count": 3,
   "id": "88831574",
   "metadata": {},
   "outputs": [
    {
     "data": {
      "text/plain": [
       "AnnData object with n_obs × n_vars = 50845 × 26059\n",
       "    obs: '220414 JH COARSE', '220414 JH FINE', 'cancer', 'CoLabs_patient', 'cpi', 'cpi_sup', 'disease', 'G2M.Score', 'LIBRARY', 'nCount_ADT', 'nCount_RNA', 'nCount_SCT', 'nFeature_ADT', 'nFeature_RNA', 'nFeature_SCT', 'percent.mt', 'percent.ribo', 'Phase', 'S.Score', 'SAMPLE.by.SNPs', 'suppression', 'TCR.cdr3s_aa', 'TCR.clonotype_id', 'TCR_counts', 'TCR_duplicates', 'TCR_log_counts'\n",
       "    var: 'assay'\n",
       "    obsm: 'X_umap'\n",
       "    layers: 'counts'"
      ]
     },
     "execution_count": 3,
     "metadata": {},
     "output_type": "execute_result"
    }
   ],
   "source": [
    "#Read in anndata object\n",
    "adata = sc.read_h5ad('C:/Users/joshu/Desktop/colitis/Biopsy_RNA_Final.h5ad')\n",
    "\n",
    "#do all the same for blood object\n",
    "#adata = sc.read_h5ad('Blood_RNA_Final.h5ad')\n",
    "\n",
    "adata"
   ]
  },
  {
   "cell_type": "code",
   "execution_count": 4,
   "id": "43e641ef",
   "metadata": {},
   "outputs": [
    {
     "name": "stdout",
     "output_type": "stream",
     "text": [
      "[[ 2191.]\n",
      " [12651.]\n",
      " [ 3286.]\n",
      " ...\n",
      " [19421.]\n",
      " [16452.]\n",
      " [25064.]]\n"
     ]
    }
   ],
   "source": [
    "#Here we are checking the total counts per cell to make sure the 'counts' layer contains raw counts. \n",
    "#They should be integers in the several hundres to tens of thousands. \n",
    "#If there is no 'counts' layer, skip this step and check the .X layer in the next step\n",
    "total_counts_per_cell = np.sum(adata.layers['counts'].todense(), axis=1)\n",
    "print(total_counts_per_cell)"
   ]
  },
  {
   "cell_type": "code",
   "execution_count": 5,
   "id": "0a6c793e",
   "metadata": {},
   "outputs": [
    {
     "name": "stdout",
     "output_type": "stream",
     "text": [
      "[[2019.1733]\n",
      " [1274.3184]\n",
      " [2379.1636]\n",
      " ...\n",
      " [1608.7498]\n",
      " [3286.8452]\n",
      " [1496.6251]]\n"
     ]
    }
   ],
   "source": [
    "#If there is no 'counts' layer, or no layers, check adata.X for the raw counts per cell\n",
    "total_counts_per_cell = np.sum(adata.X.todense(), axis=1)\n",
    "print(total_counts_per_cell)"
   ]
  },
  {
   "cell_type": "code",
   "execution_count": 6,
   "id": "3282a003",
   "metadata": {},
   "outputs": [
    {
     "data": {
      "text/plain": [
       "Index(['AAACCTGAGACAATAC-1_1', 'AAACCTGAGACCGGAT-1_1', 'AAACCTGAGGCTCTTA-1_1',\n",
       "       'AAACCTGAGTGCAAGC-1_1', 'AAACCTGCAAAGTGCG-1_1', 'AAACCTGCAGATGGGT-1_1',\n",
       "       'AAACCTGCAGGATTGG-1_1', 'AAACCTGCATTACGAC-1_1', 'AAACCTGGTGCTAGCC-1_1',\n",
       "       'AAACCTGGTTACCAGT-1_1',\n",
       "       ...\n",
       "       'TTTGTCACAAACAACA-1_8', 'TTTGTCACAAGGGTCA-1_8', 'TTTGTCACAATGGTCT-1_8',\n",
       "       'TTTGTCACACCCTATC-1_8', 'TTTGTCACACGAAATA-1_8', 'TTTGTCACATCCCACT-1_8',\n",
       "       'TTTGTCACATCCTTGC-1_8', 'TTTGTCAGTCGTGGCT-1_8', 'TTTGTCATCAGAGACG-1_8',\n",
       "       'TTTGTCATCATGCATG-1_8'],\n",
       "      dtype='object', length=50845)"
      ]
     },
     "execution_count": 6,
     "metadata": {},
     "output_type": "execute_result"
    }
   ],
   "source": [
    "adata.obs_names"
   ]
  },
  {
   "cell_type": "code",
   "execution_count": 7,
   "id": "5378eed2",
   "metadata": {},
   "outputs": [],
   "source": [
    "with open ('converting_from_h5ad/biopsy_RNA/barcodes.tsv' , 'w') as f:\n",
    "    for item in adata.obs_names:\n",
    "        f.write(item + '\\n')"
   ]
  },
  {
   "cell_type": "code",
   "execution_count": 8,
   "id": "d6d3a824",
   "metadata": {},
   "outputs": [
    {
     "data": {
      "text/plain": [
       "Index(['WASH7P', 'RP11-34P13.15', 'RP11-34P13.13', 'FO538757.1', 'AP006222.2',\n",
       "       'RP4-669L17.10', 'RP4-669L17.8', 'MTND1P23', 'MTND2P28', 'MTCO1P12',\n",
       "       ...\n",
       "       'CTC-398G3.2', 'RPL36AP51', 'LIM2', 'IGLV2-28', 'IGLL3P',\n",
       "       'WI2-85898F10.2', 'bP-21201H5.2', 'AP000320.7', 'AF064858.11',\n",
       "       'AP001628.6'],\n",
       "      dtype='object', name='name_0', length=26059)"
      ]
     },
     "execution_count": 8,
     "metadata": {},
     "output_type": "execute_result"
    }
   ],
   "source": [
    "adata.var_names"
   ]
  },
  {
   "cell_type": "code",
   "execution_count": 9,
   "id": "6636dc61",
   "metadata": {},
   "outputs": [],
   "source": [
    "with open('converting_from_h5ad/biopsy_RNA/features.tsv' , 'w') as f:\n",
    "    for item in ['\\t' .join([x,x, 'Gene Expression']) for x in adata.var_names]:\n",
    "        f.write(item + '\\n')"
   ]
  },
  {
   "cell_type": "code",
   "execution_count": 10,
   "id": "94eefcde",
   "metadata": {},
   "outputs": [],
   "source": [
    "io.mmwrite('converting_from_h5ad/biopsy_RNA/matrix', adata.X.T)"
   ]
  },
  {
   "cell_type": "code",
   "execution_count": 11,
   "id": "729704fa",
   "metadata": {},
   "outputs": [
    {
     "name": "stderr",
     "output_type": "stream",
     "text": [
      "Parameter format not correct - \"biopsy_RNA'\".\n"
     ]
    }
   ],
   "source": [
    "!dir 'converting_from_h5ad/biopsy_RNA'"
   ]
  },
  {
   "cell_type": "code",
   "execution_count": 12,
   "id": "4e164aee",
   "metadata": {
    "scrolled": true
   },
   "outputs": [
    {
     "data": {
      "text/html": [
       "<div>\n",
       "<style scoped>\n",
       "    .dataframe tbody tr th:only-of-type {\n",
       "        vertical-align: middle;\n",
       "    }\n",
       "\n",
       "    .dataframe tbody tr th {\n",
       "        vertical-align: top;\n",
       "    }\n",
       "\n",
       "    .dataframe thead th {\n",
       "        text-align: right;\n",
       "    }\n",
       "</style>\n",
       "<table border=\"1\" class=\"dataframe\">\n",
       "  <thead>\n",
       "    <tr style=\"text-align: right;\">\n",
       "      <th></th>\n",
       "      <th>220414 JH COARSE</th>\n",
       "      <th>220414 JH FINE</th>\n",
       "      <th>cancer</th>\n",
       "      <th>CoLabs_patient</th>\n",
       "      <th>cpi</th>\n",
       "      <th>cpi_sup</th>\n",
       "      <th>disease</th>\n",
       "      <th>G2M.Score</th>\n",
       "      <th>LIBRARY</th>\n",
       "      <th>nCount_ADT</th>\n",
       "      <th>...</th>\n",
       "      <th>percent.ribo</th>\n",
       "      <th>Phase</th>\n",
       "      <th>S.Score</th>\n",
       "      <th>SAMPLE.by.SNPs</th>\n",
       "      <th>suppression</th>\n",
       "      <th>TCR.cdr3s_aa</th>\n",
       "      <th>TCR.clonotype_id</th>\n",
       "      <th>TCR_counts</th>\n",
       "      <th>TCR_duplicates</th>\n",
       "      <th>TCR_log_counts</th>\n",
       "    </tr>\n",
       "  </thead>\n",
       "  <tbody>\n",
       "    <tr>\n",
       "      <th>AAACCTGAGACAATAC-1_1</th>\n",
       "      <td>CD4T</td>\n",
       "      <td>CD4T naive</td>\n",
       "      <td>rcc</td>\n",
       "      <td>HS15</td>\n",
       "      <td>combo</td>\n",
       "      <td>combo</td>\n",
       "      <td>CPI_colitis</td>\n",
       "      <td>-0.087554</td>\n",
       "      <td>XAUT2-POOL-SCG1</td>\n",
       "      <td>0.0</td>\n",
       "      <td>...</td>\n",
       "      <td>29.151460</td>\n",
       "      <td>S</td>\n",
       "      <td>0.042815</td>\n",
       "      <td>P.S1.C1</td>\n",
       "      <td>steroid</td>\n",
       "      <td>NA</td>\n",
       "      <td>NA</td>\n",
       "      <td>nan</td>\n",
       "      <td>no TCR</td>\n",
       "      <td>nan</td>\n",
       "    </tr>\n",
       "    <tr>\n",
       "      <th>AAACCTGAGACCGGAT-1_1</th>\n",
       "      <td>Plasma cells</td>\n",
       "      <td>Plasma IgA</td>\n",
       "      <td>na</td>\n",
       "      <td>HS2</td>\n",
       "      <td>none</td>\n",
       "      <td>Healthy</td>\n",
       "      <td>HC</td>\n",
       "      <td>-3.479360</td>\n",
       "      <td>XAUT2-POOL-SCG1</td>\n",
       "      <td>0.0</td>\n",
       "      <td>...</td>\n",
       "      <td>9.737591</td>\n",
       "      <td>S</td>\n",
       "      <td>0.046752</td>\n",
       "      <td>P.S1.C9</td>\n",
       "      <td>none</td>\n",
       "      <td>NA</td>\n",
       "      <td>NA</td>\n",
       "      <td>nan</td>\n",
       "      <td>no TCR</td>\n",
       "      <td>nan</td>\n",
       "    </tr>\n",
       "    <tr>\n",
       "      <th>AAACCTGAGGCTCTTA-1_1</th>\n",
       "      <td>CD4T</td>\n",
       "      <td>CD4T memory</td>\n",
       "      <td>na</td>\n",
       "      <td>HS1</td>\n",
       "      <td>none</td>\n",
       "      <td>Healthy</td>\n",
       "      <td>HC</td>\n",
       "      <td>-0.029014</td>\n",
       "      <td>XAUT2-POOL-SCG1</td>\n",
       "      <td>0.0</td>\n",
       "      <td>...</td>\n",
       "      <td>27.267194</td>\n",
       "      <td>G1</td>\n",
       "      <td>-0.055118</td>\n",
       "      <td>P.S1.C4</td>\n",
       "      <td>none</td>\n",
       "      <td>TRA:CAVMDSNYQLIW;TRB:CASSSGSSGANVLTF</td>\n",
       "      <td>clonotype314</td>\n",
       "      <td>1.0</td>\n",
       "      <td>TCR</td>\n",
       "      <td>1.0</td>\n",
       "    </tr>\n",
       "    <tr>\n",
       "      <th>AAACCTGAGTGCAAGC-1_1</th>\n",
       "      <td>CD4T</td>\n",
       "      <td>CD4T RM</td>\n",
       "      <td>prostate</td>\n",
       "      <td>HS7</td>\n",
       "      <td>PD-1</td>\n",
       "      <td>other</td>\n",
       "      <td>CPI_colitis</td>\n",
       "      <td>-0.047119</td>\n",
       "      <td>XAUT2-POOL-SCG1</td>\n",
       "      <td>0.0</td>\n",
       "      <td>...</td>\n",
       "      <td>19.610297</td>\n",
       "      <td>S</td>\n",
       "      <td>0.100886</td>\n",
       "      <td>P.S1.C11</td>\n",
       "      <td>none</td>\n",
       "      <td>TRA:CAERAPGGSYIPTF;TRB:CASSSREVSEKLFF</td>\n",
       "      <td>clonotype7</td>\n",
       "      <td>38.0</td>\n",
       "      <td>expanded TCR</td>\n",
       "      <td>5.285402218862249</td>\n",
       "    </tr>\n",
       "    <tr>\n",
       "      <th>AAACCTGCAAAGTGCG-1_1</th>\n",
       "      <td>CD8T</td>\n",
       "      <td>CD8T naive</td>\n",
       "      <td>prostate</td>\n",
       "      <td>HS7</td>\n",
       "      <td>PD-1</td>\n",
       "      <td>other</td>\n",
       "      <td>CPI_colitis</td>\n",
       "      <td>-0.084072</td>\n",
       "      <td>XAUT2-POOL-SCG1</td>\n",
       "      <td>0.0</td>\n",
       "      <td>...</td>\n",
       "      <td>36.931704</td>\n",
       "      <td>G1</td>\n",
       "      <td>-0.066929</td>\n",
       "      <td>P.S1.C11</td>\n",
       "      <td>none</td>\n",
       "      <td>TRA:CAVPTGGGNKLTF;TRB:CASSSDGYEQYF</td>\n",
       "      <td>clonotype315</td>\n",
       "      <td>1.0</td>\n",
       "      <td>TCR</td>\n",
       "      <td>1.0</td>\n",
       "    </tr>\n",
       "    <tr>\n",
       "      <th>...</th>\n",
       "      <td>...</td>\n",
       "      <td>...</td>\n",
       "      <td>...</td>\n",
       "      <td>...</td>\n",
       "      <td>...</td>\n",
       "      <td>...</td>\n",
       "      <td>...</td>\n",
       "      <td>...</td>\n",
       "      <td>...</td>\n",
       "      <td>...</td>\n",
       "      <td>...</td>\n",
       "      <td>...</td>\n",
       "      <td>...</td>\n",
       "      <td>...</td>\n",
       "      <td>...</td>\n",
       "      <td>...</td>\n",
       "      <td>...</td>\n",
       "      <td>...</td>\n",
       "      <td>...</td>\n",
       "      <td>...</td>\n",
       "      <td>...</td>\n",
       "    </tr>\n",
       "    <tr>\n",
       "      <th>TTTGTCACATCCCACT-1_8</th>\n",
       "      <td>Plasma cells</td>\n",
       "      <td>Plasma IgA</td>\n",
       "      <td>na</td>\n",
       "      <td>HS3</td>\n",
       "      <td>none</td>\n",
       "      <td>Healthy</td>\n",
       "      <td>HC</td>\n",
       "      <td>-0.554289</td>\n",
       "      <td>XAUT2-POOL-SCG8</td>\n",
       "      <td>1195.0</td>\n",
       "      <td>...</td>\n",
       "      <td>9.070255</td>\n",
       "      <td>S</td>\n",
       "      <td>0.050781</td>\n",
       "      <td>P.S8.C5</td>\n",
       "      <td>none</td>\n",
       "      <td>NA</td>\n",
       "      <td>NA</td>\n",
       "      <td>nan</td>\n",
       "      <td>no TCR</td>\n",
       "      <td>nan</td>\n",
       "    </tr>\n",
       "    <tr>\n",
       "      <th>TTTGTCACATCCTTGC-1_8</th>\n",
       "      <td>CD8T</td>\n",
       "      <td>CD8T RM</td>\n",
       "      <td>melanoma</td>\n",
       "      <td>HS12</td>\n",
       "      <td>PD-1</td>\n",
       "      <td>pd1tnf</td>\n",
       "      <td>CPI_colitis</td>\n",
       "      <td>-0.139437</td>\n",
       "      <td>XAUT2-POOL-SCG8</td>\n",
       "      <td>780.0</td>\n",
       "      <td>...</td>\n",
       "      <td>33.268178</td>\n",
       "      <td>G1</td>\n",
       "      <td>-0.093750</td>\n",
       "      <td>P.S8.C3</td>\n",
       "      <td>TNF</td>\n",
       "      <td>NA</td>\n",
       "      <td>NA</td>\n",
       "      <td>nan</td>\n",
       "      <td>no TCR</td>\n",
       "      <td>nan</td>\n",
       "    </tr>\n",
       "    <tr>\n",
       "      <th>TTTGTCAGTCGTGGCT-1_8</th>\n",
       "      <td>Plasma cells</td>\n",
       "      <td>Plasma IgG</td>\n",
       "      <td>scc_lung</td>\n",
       "      <td>HS13</td>\n",
       "      <td>combo</td>\n",
       "      <td>combo</td>\n",
       "      <td>CPI_colitis</td>\n",
       "      <td>-0.343329</td>\n",
       "      <td>XAUT2-POOL-SCG8</td>\n",
       "      <td>1698.0</td>\n",
       "      <td>...</td>\n",
       "      <td>9.395593</td>\n",
       "      <td>S</td>\n",
       "      <td>0.050781</td>\n",
       "      <td>P.S8.C7</td>\n",
       "      <td>steroid</td>\n",
       "      <td>NA</td>\n",
       "      <td>NA</td>\n",
       "      <td>nan</td>\n",
       "      <td>no TCR</td>\n",
       "      <td>nan</td>\n",
       "    </tr>\n",
       "    <tr>\n",
       "      <th>TTTGTCATCAGAGACG-1_8</th>\n",
       "      <td>Cycling</td>\n",
       "      <td>Cycling T</td>\n",
       "      <td>melanoma</td>\n",
       "      <td>HS11</td>\n",
       "      <td>PD-1</td>\n",
       "      <td>pd1tnf</td>\n",
       "      <td>CPI_colitis</td>\n",
       "      <td>0.819078</td>\n",
       "      <td>XAUT2-POOL-SCG8</td>\n",
       "      <td>999.0</td>\n",
       "      <td>...</td>\n",
       "      <td>31.581186</td>\n",
       "      <td>S</td>\n",
       "      <td>1.425781</td>\n",
       "      <td>P.S8.C2</td>\n",
       "      <td>TNF</td>\n",
       "      <td>NA</td>\n",
       "      <td>NA</td>\n",
       "      <td>nan</td>\n",
       "      <td>no TCR</td>\n",
       "      <td>nan</td>\n",
       "    </tr>\n",
       "    <tr>\n",
       "      <th>TTTGTCATCATGCATG-1_8</th>\n",
       "      <td>Plasma cells</td>\n",
       "      <td>Plasma IgM</td>\n",
       "      <td>merkel</td>\n",
       "      <td>HS10</td>\n",
       "      <td>PD-1</td>\n",
       "      <td>pd1tnf</td>\n",
       "      <td>CPI_colitis</td>\n",
       "      <td>-0.247170</td>\n",
       "      <td>XAUT2-POOL-SCG8</td>\n",
       "      <td>2673.0</td>\n",
       "      <td>...</td>\n",
       "      <td>8.377214</td>\n",
       "      <td>G1</td>\n",
       "      <td>-0.078125</td>\n",
       "      <td>P.S8.C8</td>\n",
       "      <td>TNF</td>\n",
       "      <td>NA</td>\n",
       "      <td>NA</td>\n",
       "      <td>nan</td>\n",
       "      <td>no TCR</td>\n",
       "      <td>nan</td>\n",
       "    </tr>\n",
       "  </tbody>\n",
       "</table>\n",
       "<p>50845 rows × 26 columns</p>\n",
       "</div>"
      ],
      "text/plain": [
       "                     220414 JH COARSE 220414 JH FINE    cancer CoLabs_patient  \\\n",
       "AAACCTGAGACAATAC-1_1             CD4T     CD4T naive       rcc           HS15   \n",
       "AAACCTGAGACCGGAT-1_1     Plasma cells     Plasma IgA        na            HS2   \n",
       "AAACCTGAGGCTCTTA-1_1             CD4T    CD4T memory        na            HS1   \n",
       "AAACCTGAGTGCAAGC-1_1             CD4T        CD4T RM  prostate            HS7   \n",
       "AAACCTGCAAAGTGCG-1_1             CD8T     CD8T naive  prostate            HS7   \n",
       "...                               ...            ...       ...            ...   \n",
       "TTTGTCACATCCCACT-1_8     Plasma cells     Plasma IgA        na            HS3   \n",
       "TTTGTCACATCCTTGC-1_8             CD8T        CD8T RM  melanoma           HS12   \n",
       "TTTGTCAGTCGTGGCT-1_8     Plasma cells     Plasma IgG  scc_lung           HS13   \n",
       "TTTGTCATCAGAGACG-1_8          Cycling      Cycling T  melanoma           HS11   \n",
       "TTTGTCATCATGCATG-1_8     Plasma cells     Plasma IgM    merkel           HS10   \n",
       "\n",
       "                        cpi  cpi_sup      disease G2M.Score          LIBRARY  \\\n",
       "AAACCTGAGACAATAC-1_1  combo    combo  CPI_colitis -0.087554  XAUT2-POOL-SCG1   \n",
       "AAACCTGAGACCGGAT-1_1   none  Healthy           HC -3.479360  XAUT2-POOL-SCG1   \n",
       "AAACCTGAGGCTCTTA-1_1   none  Healthy           HC -0.029014  XAUT2-POOL-SCG1   \n",
       "AAACCTGAGTGCAAGC-1_1   PD-1    other  CPI_colitis -0.047119  XAUT2-POOL-SCG1   \n",
       "AAACCTGCAAAGTGCG-1_1   PD-1    other  CPI_colitis -0.084072  XAUT2-POOL-SCG1   \n",
       "...                     ...      ...          ...       ...              ...   \n",
       "TTTGTCACATCCCACT-1_8   none  Healthy           HC -0.554289  XAUT2-POOL-SCG8   \n",
       "TTTGTCACATCCTTGC-1_8   PD-1   pd1tnf  CPI_colitis -0.139437  XAUT2-POOL-SCG8   \n",
       "TTTGTCAGTCGTGGCT-1_8  combo    combo  CPI_colitis -0.343329  XAUT2-POOL-SCG8   \n",
       "TTTGTCATCAGAGACG-1_8   PD-1   pd1tnf  CPI_colitis  0.819078  XAUT2-POOL-SCG8   \n",
       "TTTGTCATCATGCATG-1_8   PD-1   pd1tnf  CPI_colitis -0.247170  XAUT2-POOL-SCG8   \n",
       "\n",
       "                     nCount_ADT  ... percent.ribo Phase   S.Score  \\\n",
       "AAACCTGAGACAATAC-1_1        0.0  ...    29.151460     S  0.042815   \n",
       "AAACCTGAGACCGGAT-1_1        0.0  ...     9.737591     S  0.046752   \n",
       "AAACCTGAGGCTCTTA-1_1        0.0  ...    27.267194    G1 -0.055118   \n",
       "AAACCTGAGTGCAAGC-1_1        0.0  ...    19.610297     S  0.100886   \n",
       "AAACCTGCAAAGTGCG-1_1        0.0  ...    36.931704    G1 -0.066929   \n",
       "...                         ...  ...          ...   ...       ...   \n",
       "TTTGTCACATCCCACT-1_8     1195.0  ...     9.070255     S  0.050781   \n",
       "TTTGTCACATCCTTGC-1_8      780.0  ...    33.268178    G1 -0.093750   \n",
       "TTTGTCAGTCGTGGCT-1_8     1698.0  ...     9.395593     S  0.050781   \n",
       "TTTGTCATCAGAGACG-1_8      999.0  ...    31.581186     S  1.425781   \n",
       "TTTGTCATCATGCATG-1_8     2673.0  ...     8.377214    G1 -0.078125   \n",
       "\n",
       "                     SAMPLE.by.SNPs suppression  \\\n",
       "AAACCTGAGACAATAC-1_1        P.S1.C1     steroid   \n",
       "AAACCTGAGACCGGAT-1_1        P.S1.C9        none   \n",
       "AAACCTGAGGCTCTTA-1_1        P.S1.C4        none   \n",
       "AAACCTGAGTGCAAGC-1_1       P.S1.C11        none   \n",
       "AAACCTGCAAAGTGCG-1_1       P.S1.C11        none   \n",
       "...                             ...         ...   \n",
       "TTTGTCACATCCCACT-1_8        P.S8.C5        none   \n",
       "TTTGTCACATCCTTGC-1_8        P.S8.C3         TNF   \n",
       "TTTGTCAGTCGTGGCT-1_8        P.S8.C7     steroid   \n",
       "TTTGTCATCAGAGACG-1_8        P.S8.C2         TNF   \n",
       "TTTGTCATCATGCATG-1_8        P.S8.C8         TNF   \n",
       "\n",
       "                                               TCR.cdr3s_aa TCR.clonotype_id  \\\n",
       "AAACCTGAGACAATAC-1_1                                     NA               NA   \n",
       "AAACCTGAGACCGGAT-1_1                                     NA               NA   \n",
       "AAACCTGAGGCTCTTA-1_1   TRA:CAVMDSNYQLIW;TRB:CASSSGSSGANVLTF     clonotype314   \n",
       "AAACCTGAGTGCAAGC-1_1  TRA:CAERAPGGSYIPTF;TRB:CASSSREVSEKLFF       clonotype7   \n",
       "AAACCTGCAAAGTGCG-1_1     TRA:CAVPTGGGNKLTF;TRB:CASSSDGYEQYF     clonotype315   \n",
       "...                                                     ...              ...   \n",
       "TTTGTCACATCCCACT-1_8                                     NA               NA   \n",
       "TTTGTCACATCCTTGC-1_8                                     NA               NA   \n",
       "TTTGTCAGTCGTGGCT-1_8                                     NA               NA   \n",
       "TTTGTCATCAGAGACG-1_8                                     NA               NA   \n",
       "TTTGTCATCATGCATG-1_8                                     NA               NA   \n",
       "\n",
       "                     TCR_counts TCR_duplicates     TCR_log_counts  \n",
       "AAACCTGAGACAATAC-1_1        nan         no TCR                nan  \n",
       "AAACCTGAGACCGGAT-1_1        nan         no TCR                nan  \n",
       "AAACCTGAGGCTCTTA-1_1        1.0            TCR                1.0  \n",
       "AAACCTGAGTGCAAGC-1_1       38.0   expanded TCR  5.285402218862249  \n",
       "AAACCTGCAAAGTGCG-1_1        1.0            TCR                1.0  \n",
       "...                         ...            ...                ...  \n",
       "TTTGTCACATCCCACT-1_8        nan         no TCR                nan  \n",
       "TTTGTCACATCCTTGC-1_8        nan         no TCR                nan  \n",
       "TTTGTCAGTCGTGGCT-1_8        nan         no TCR                nan  \n",
       "TTTGTCATCAGAGACG-1_8        nan         no TCR                nan  \n",
       "TTTGTCATCATGCATG-1_8        nan         no TCR                nan  \n",
       "\n",
       "[50845 rows x 26 columns]"
      ]
     },
     "execution_count": 12,
     "metadata": {},
     "output_type": "execute_result"
    }
   ],
   "source": [
    "adata.obs"
   ]
  },
  {
   "cell_type": "code",
   "execution_count": 13,
   "id": "cc72bc5a",
   "metadata": {
    "scrolled": true
   },
   "outputs": [
    {
     "name": "stderr",
     "output_type": "stream",
     "text": [
      "'gzip' is not recognized as an internal or external command,\n",
      "operable program or batch file.\n"
     ]
    }
   ],
   "source": [
    "!gzip converting_from_h5ad/biopsy_RNA/*"
   ]
  },
  {
   "cell_type": "code",
   "execution_count": 14,
   "id": "2c5cc7b1",
   "metadata": {},
   "outputs": [
    {
     "name": "stderr",
     "output_type": "stream",
     "text": [
      "'gzip' is not recognized as an internal or external command,\n",
      "operable program or batch file.\n"
     ]
    }
   ],
   "source": [
    "!gzip --version"
   ]
  },
  {
   "cell_type": "code",
   "execution_count": null,
   "id": "021ddedf",
   "metadata": {},
   "outputs": [],
   "source": [
    "import shutil\n",
    "import glob\n",
    "\n",
    "folder_path = 'C:/Users/joshu/Desktop/colitis/seurat heatmap/converting_from_h5ad'\n",
    "file_list = glob.glob(folder_path + '*')\n",
    "\n",
    "for file in file_list:\n",
    "    shutil.make_archive(file, 'gztar', root_dir=folder_path, base_dir=file)"
   ]
  },
  {
   "cell_type": "code",
   "execution_count": null,
   "id": "d7ba4d6e",
   "metadata": {},
   "outputs": [],
   "source": [
    "!ls converting_from_h5ad/biopsy_RNA/"
   ]
  },
  {
   "cell_type": "code",
   "execution_count": null,
   "id": "12d8f581",
   "metadata": {},
   "outputs": [],
   "source": [
    "import os\n",
    "\n",
    "folder_path = \"converting_from_h5ad/biopsy_RNA/\"\n",
    "os.chdir(folder_path)  # Change directory to the folder containing the files\n",
    "\n",
    "for file in os.listdir():\n",
    "    if os.path.isfile(file):  # Ensure it's a file and not a directory\n",
    "        os.system(f\"gzip {file}\")"
   ]
  },
  {
   "cell_type": "code",
   "execution_count": null,
   "id": "93083350",
   "metadata": {},
   "outputs": [],
   "source": [
    "adata.obs.to_csv('converting_from_h5ad/biopsy_RNA/metadata.csv')"
   ]
  }
 ],
 "metadata": {
  "kernelspec": {
   "display_name": "Python 3 (ipykernel)",
   "language": "python",
   "name": "python3"
  },
  "language_info": {
   "codemirror_mode": {
    "name": "ipython",
    "version": 3
   },
   "file_extension": ".py",
   "mimetype": "text/x-python",
   "name": "python",
   "nbconvert_exporter": "python",
   "pygments_lexer": "ipython3",
   "version": "3.8.12"
  }
 },
 "nbformat": 4,
 "nbformat_minor": 5
}

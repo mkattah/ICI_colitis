{
 "cells": [
  {
   "cell_type": "markdown",
   "id": "d93ce875",
   "metadata": {},
   "source": [
    "# Run DGE using MAST\n"
   ]
  },
  {
   "cell_type": "code",
   "execution_count": 1,
   "id": "3996a1b1",
   "metadata": {},
   "outputs": [],
   "source": [
    "import os\n",
    "import scanpy as sc\n",
    "import anndata as ad\n",
    "\n",
    "import numpy as np\n",
    "import scipy\n",
    "import pandas as pd\n",
    "import matplotlib.pyplot as pltb\n",
    "import seaborn as sns\n",
    "import sys\n",
    "sys.path.append('Desktop/colitis/')\n"
   ]
  },
  {
   "cell_type": "markdown",
   "id": "1a323b48",
   "metadata": {},
   "source": [
    "## function 1. subset h5ad into two conditions (pairwise)\n",
    "\n",
    "- XAUT1: adata.obs[\"condition\"]\n",
    "\n",
    "- XAUT2: adata.obs[\"disease\"], adata.obs[\"cpi\"], adata.obs[\"suppression\"]\n",
    "\n",
    "For each \"category\", we will make a separate directory such as \"XAUT1/2_category\".\n"
   ]
  },
  {
   "cell_type": "code",
   "execution_count": 2,
   "id": "bfd5b70d",
   "metadata": {},
   "outputs": [],
   "source": [
    "# function to split the adata into pairs of conditions.\n",
    "# inputs: adata, conditions (\"disease_status\", \"condition\", etc.)\n",
    "# inputs: output_path, dataname (dataset name, \"XAUT1_Blood\", etc.)\n",
    "\n",
    "def subset_adata_conditions_pairwise(adata, conditions, output_path, dataname):\n",
    "    # extract the conditions\n",
    "    condition_list = adata.obs[conditions].unique().to_list()\n",
    "    \n",
    "    # make a pair of two conditions\n",
    "    for i in range(0,len(condition_list)-1):\n",
    "        condition1 = condition_list[i]\n",
    "        for j in range(i+1,len(condition_list)):\n",
    "            condition2 = condition_list[j]\n",
    "            \n",
    "            # subset the adata for condition1 and condition2\n",
    "            adata_subset = adata[adata.obs[conditions].isin([condition1, condition2])]\n",
    "            \n",
    "            # define the new obs field \"condition\" for easier MAST running (no more disease, condition, cpi, etc.)\n",
    "            adata_subset.obs[\"condition\"] = adata.obs[conditions]\n",
    "            \n",
    "            # make directory for each subsetted anndata (for exported csvs later)\n",
    "            filepath = os.path.join(output_path, dataname+\"_\"+condition1+\"_\"+condition2)\n",
    "            if not os.path.exists(output_path):\n",
    "                os.mkdir(output_path)\n",
    "            if not os.path.exists(filepath):\n",
    "                os.mkdir(filepath)\n",
    "            \n",
    "            # save the subsetted anndata for each subdirectory\n",
    "            adata_subset.write_h5ad(filepath+ \"/\" + dataname + \"_\"+condition1+\"_\"+condition2+\".h5ad\")\n",
    "            # os.system(\"mkdir output_path\")"
   ]
  },
  {
   "cell_type": "code",
   "execution_count": 10,
   "id": "31a2b05d",
   "metadata": {
    "scrolled": true
   },
   "outputs": [
    {
     "name": "stderr",
     "output_type": "stream",
     "text": [
      "C:\\Users\\joshu\\AppData\\Local\\Temp\\ipykernel_12324\\1748824379.py:19: ImplicitModificationWarning: Trying to modify attribute `.obs` of view, initializing view as actual.\n",
      "  adata_subset.obs[\"condition\"] = adata.obs[conditions]\n",
      "C:\\Users\\joshu\\AppData\\Local\\Temp\\ipykernel_12324\\1748824379.py:19: ImplicitModificationWarning: Trying to modify attribute `.obs` of view, initializing view as actual.\n",
      "  adata_subset.obs[\"condition\"] = adata.obs[conditions]\n",
      "C:\\Users\\joshu\\AppData\\Local\\Temp\\ipykernel_12324\\1748824379.py:19: ImplicitModificationWarning: Trying to modify attribute `.obs` of view, initializing view as actual.\n",
      "  adata_subset.obs[\"condition\"] = adata.obs[conditions]\n"
     ]
    }
   ],
   "source": [
    "#biopsy disease\n",
    "adata= sc.read_h5ad('Biopsy_RNA_Final.h5ad')\n",
    "output_path = 'C:/Users/joshu/Desktop/colitis'\n",
    "subset_adata_conditions_pairwise(adata, \"disease\", output_path, \"XAUT2_Biopsy\")"
   ]
  },
  {
   "cell_type": "code",
   "execution_count": 11,
   "id": "b2c4835e",
   "metadata": {},
   "outputs": [
    {
     "name": "stderr",
     "output_type": "stream",
     "text": [
      "C:\\Users\\joshu\\AppData\\Local\\Temp\\ipykernel_12324\\1748824379.py:19: ImplicitModificationWarning: Trying to modify attribute `.obs` of view, initializing view as actual.\n",
      "  adata_subset.obs[\"condition\"] = adata.obs[conditions]\n",
      "C:\\Users\\joshu\\AppData\\Local\\Temp\\ipykernel_12324\\1748824379.py:19: ImplicitModificationWarning: Trying to modify attribute `.obs` of view, initializing view as actual.\n",
      "  adata_subset.obs[\"condition\"] = adata.obs[conditions]\n",
      "C:\\Users\\joshu\\AppData\\Local\\Temp\\ipykernel_12324\\1748824379.py:19: ImplicitModificationWarning: Trying to modify attribute `.obs` of view, initializing view as actual.\n",
      "  adata_subset.obs[\"condition\"] = adata.obs[conditions]\n",
      "C:\\Users\\joshu\\AppData\\Local\\Temp\\ipykernel_12324\\1748824379.py:19: ImplicitModificationWarning: Trying to modify attribute `.obs` of view, initializing view as actual.\n",
      "  adata_subset.obs[\"condition\"] = adata.obs[conditions]\n",
      "C:\\Users\\joshu\\AppData\\Local\\Temp\\ipykernel_12324\\1748824379.py:19: ImplicitModificationWarning: Trying to modify attribute `.obs` of view, initializing view as actual.\n",
      "  adata_subset.obs[\"condition\"] = adata.obs[conditions]\n",
      "C:\\Users\\joshu\\AppData\\Local\\Temp\\ipykernel_12324\\1748824379.py:19: ImplicitModificationWarning: Trying to modify attribute `.obs` of view, initializing view as actual.\n",
      "  adata_subset.obs[\"condition\"] = adata.obs[conditions]\n",
      "C:\\Users\\joshu\\AppData\\Local\\Temp\\ipykernel_12324\\1748824379.py:19: ImplicitModificationWarning: Trying to modify attribute `.obs` of view, initializing view as actual.\n",
      "  adata_subset.obs[\"condition\"] = adata.obs[conditions]\n",
      "C:\\Users\\joshu\\AppData\\Local\\Temp\\ipykernel_12324\\1748824379.py:19: ImplicitModificationWarning: Trying to modify attribute `.obs` of view, initializing view as actual.\n",
      "  adata_subset.obs[\"condition\"] = adata.obs[conditions]\n",
      "C:\\Users\\joshu\\AppData\\Local\\Temp\\ipykernel_12324\\1748824379.py:19: ImplicitModificationWarning: Trying to modify attribute `.obs` of view, initializing view as actual.\n",
      "  adata_subset.obs[\"condition\"] = adata.obs[conditions]\n",
      "C:\\Users\\joshu\\AppData\\Local\\Temp\\ipykernel_12324\\1748824379.py:19: ImplicitModificationWarning: Trying to modify attribute `.obs` of view, initializing view as actual.\n",
      "  adata_subset.obs[\"condition\"] = adata.obs[conditions]\n"
     ]
    }
   ],
   "source": [
    "#biopsy CPI and suppression\n",
    "adata= sc.read_h5ad('Biopsy_RNA_Final.h5ad')\n",
    "output_path = 'C:/Users/joshu/Desktop/colitis'\n",
    "subset_adata_conditions_pairwise(adata, \"cpi_sup\", output_path, \"XAUT2_Biopsy\")"
   ]
  },
  {
   "cell_type": "code",
   "execution_count": null,
   "id": "657081cd",
   "metadata": {},
   "outputs": [],
   "source": [
    "#blood disease\n",
    "adata= sc.read_h5ad('Blood_RNA_Final.h5ad')\n",
    "output_path = 'C:/Users/joshu/Desktop/colitis'\n",
    "subset_adata_conditions_pairwise(adata, \"disease\", output_path, \"XAUT2_Blood\")"
   ]
  },
  {
   "cell_type": "code",
   "execution_count": 12,
   "id": "c31d1d13",
   "metadata": {},
   "outputs": [
    {
     "name": "stderr",
     "output_type": "stream",
     "text": [
      "C:\\Users\\joshu\\AppData\\Local\\Temp\\ipykernel_12324\\1748824379.py:19: ImplicitModificationWarning: Trying to modify attribute `.obs` of view, initializing view as actual.\n",
      "  adata_subset.obs[\"condition\"] = adata.obs[conditions]\n",
      "C:\\Users\\joshu\\AppData\\Local\\Temp\\ipykernel_12324\\1748824379.py:19: ImplicitModificationWarning: Trying to modify attribute `.obs` of view, initializing view as actual.\n",
      "  adata_subset.obs[\"condition\"] = adata.obs[conditions]\n",
      "C:\\Users\\joshu\\AppData\\Local\\Temp\\ipykernel_12324\\1748824379.py:19: ImplicitModificationWarning: Trying to modify attribute `.obs` of view, initializing view as actual.\n",
      "  adata_subset.obs[\"condition\"] = adata.obs[conditions]\n"
     ]
    }
   ],
   "source": [
    "#Luoma CD45 sorted\n",
    "adata= sc.read_h5ad('Luoma_CD45sorted_Final.h5ad')\n",
    "output_path = 'C:/Users/joshu/Desktop/colitis'\n",
    "subset_adata_conditions_pairwise(adata, \"disease\", output_path, \"45\")"
   ]
  },
  {
   "cell_type": "code",
   "execution_count": 13,
   "id": "0530eaa6",
   "metadata": {},
   "outputs": [
    {
     "name": "stderr",
     "output_type": "stream",
     "text": [
      "C:\\Users\\joshu\\AppData\\Local\\Temp\\ipykernel_12324\\1748824379.py:19: ImplicitModificationWarning: Trying to modify attribute `.obs` of view, initializing view as actual.\n",
      "  adata_subset.obs[\"condition\"] = adata.obs[conditions]\n",
      "C:\\Users\\joshu\\AppData\\Local\\Temp\\ipykernel_12324\\1748824379.py:19: ImplicitModificationWarning: Trying to modify attribute `.obs` of view, initializing view as actual.\n",
      "  adata_subset.obs[\"condition\"] = adata.obs[conditions]\n",
      "C:\\Users\\joshu\\AppData\\Local\\Temp\\ipykernel_12324\\1748824379.py:19: ImplicitModificationWarning: Trying to modify attribute `.obs` of view, initializing view as actual.\n",
      "  adata_subset.obs[\"condition\"] = adata.obs[conditions]\n"
     ]
    }
   ],
   "source": [
    "#Luoma CD45 sorted\n",
    "adata= sc.read_h5ad('Luoma_CD3sorted_Final.h5ad')\n",
    "output_path = 'C:/Users/joshu/Desktop/colitis'\n",
    "subset_adata_conditions_pairwise(adata, \"disease\", output_path, \"3\")"
   ]
  },
  {
   "cell_type": "code",
   "execution_count": null,
   "id": "5bf580a7",
   "metadata": {},
   "outputs": [],
   "source": [
    "### NEXT: input each h5ad into \"convert_subset_h5ad_to_MAST_csv.py\" to output files to input into MAST scripts"
   ]
  }
 ],
 "metadata": {
  "kernelspec": {
   "display_name": "Python 3 (ipykernel)",
   "language": "python",
   "name": "python3"
  },
  "language_info": {
   "codemirror_mode": {
    "name": "ipython",
    "version": 3
   },
   "file_extension": ".py",
   "mimetype": "text/x-python",
   "name": "python",
   "nbconvert_exporter": "python",
   "pygments_lexer": "ipython3",
   "version": "3.8.12"
  }
 },
 "nbformat": 4,
 "nbformat_minor": 5
}
